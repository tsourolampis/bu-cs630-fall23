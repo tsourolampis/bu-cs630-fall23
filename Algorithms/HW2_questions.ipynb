{
 "cells": [
  {
   "cell_type": "markdown",
   "id": "0de2a7f5",
   "metadata": {},
   "source": [
    "# HW2 Coded Algorithms to practice python implementation"
   ]
  },
  {
   "cell_type": "markdown",
   "id": "c692a3ca-fdbe-4ae3-9a91-3e41ea2256c7",
   "metadata": {
    "jp-MarkdownHeadingCollapsed": true
   },
   "source": [
    "# Q1"
   ]
  },
  {
   "cell_type": "code",
   "execution_count": 1,
   "id": "f1128f98-2790-4651-a246-4a8a380839b0",
   "metadata": {},
   "outputs": [],
   "source": [
    "import bisect\n",
    "\n",
    "def countPairs(A, k, l):\n",
    "    A.sort()  # Sort the array in non-decreasing order\n",
    "    print(A)\n",
    "    count = 0\n",
    "\n",
    "    out_list = []\n",
    "\n",
    "    for i in range(len(A)):\n",
    "        print(f\"Current Element: {A[i]}\")\n",
    "        lower_bound = A[i] - (A[i] % l) + k*l\n",
    "        upper_bound = lower_bound + l-1\n",
    "        print(f\"Bounds for {A[i]}: [{lower_bound}:{upper_bound}]\")\n",
    "        index_lower = bisect.bisect_left(A, lower_bound)\n",
    "        index_upper = bisect.bisect_right(A, upper_bound)\n",
    "        print(f\"Lower Index: {index_lower}, Upper Index: {index_upper} and i = {i}\")\n",
    "        print(A[index_lower: index_upper])\n",
    "\n",
    "        count += index_upper - index_lower\n",
    "\n",
    "        # Note that recording the pairs takes O(N) time at worst, rendering the alg an O(N^2) time alg\n",
    "        for j in range(index_lower, index_upper):\n",
    "            out_list.append((i, j))\n",
    "            print(f\"Pair {(i, j)} found.\")\n",
    "        \n",
    "        print()\n",
    "\n",
    "    return out_list, count\n"
   ]
  },
  {
   "cell_type": "code",
   "execution_count": 2,
   "id": "009bfde7-244e-4f61-aaa5-0c6a503188b6",
   "metadata": {},
   "outputs": [
    {
     "name": "stdout",
     "output_type": "stream",
     "text": [
      "[5, 7, 13, 16, 40, 44]\n",
      "Current Element: 5\n",
      "Bounds for 5: [6:8]\n",
      "Lower Index: 1, Upper Index: 2 and i = 0\n",
      "[7]\n",
      "Pair (0, 1) found.\n",
      "\n",
      "Current Element: 7\n",
      "Bounds for 7: [9:11]\n",
      "Lower Index: 2, Upper Index: 2 and i = 1\n",
      "[]\n",
      "\n",
      "Current Element: 13\n",
      "Bounds for 13: [15:17]\n",
      "Lower Index: 3, Upper Index: 4 and i = 2\n",
      "[16]\n",
      "Pair (2, 3) found.\n",
      "\n",
      "Current Element: 16\n",
      "Bounds for 16: [18:20]\n",
      "Lower Index: 4, Upper Index: 4 and i = 3\n",
      "[]\n",
      "\n",
      "Current Element: 40\n",
      "Bounds for 40: [42:44]\n",
      "Lower Index: 5, Upper Index: 6 and i = 4\n",
      "[44]\n",
      "Pair (4, 5) found.\n",
      "\n",
      "Current Element: 44\n",
      "Bounds for 44: [45:47]\n",
      "Lower Index: 6, Upper Index: 6 and i = 5\n",
      "[]\n",
      "\n"
     ]
    },
    {
     "data": {
      "text/plain": [
       "([(0, 1), (2, 3), (4, 5)], 3)"
      ]
     },
     "execution_count": 2,
     "metadata": {},
     "output_type": "execute_result"
    }
   ],
   "source": [
    "A = [44, 13, 5, 7, 16, 40]\n",
    "countPairs(A, 1, 3)"
   ]
  },
  {
   "cell_type": "code",
   "execution_count": 3,
   "id": "f602d102-b0c7-4a4e-8436-d11b230b63e0",
   "metadata": {},
   "outputs": [],
   "source": [
    "for x in range(6, 6):\n",
    "    print(x)"
   ]
  },
  {
   "cell_type": "markdown",
   "id": "1a331825-6777-4cf5-8d5b-01a86ff750b8",
   "metadata": {
    "jp-MarkdownHeadingCollapsed": true
   },
   "source": [
    "# Q2"
   ]
  },
  {
   "cell_type": "code",
   "execution_count": 4,
   "id": "4f9bc765-4e24-4e53-96fe-540484fd047d",
   "metadata": {},
   "outputs": [],
   "source": [
    "A = [\n",
    "    [5, 7, 13, 16, 44],\n",
    "    [8, 10, 15, 18, 50],\n",
    "    [12, 20, 21, 25, 60]\n",
    "]\n",
    "\n",
    "x_1 = 10\n",
    "x_2 = 11"
   ]
  },
  {
   "cell_type": "code",
   "execution_count": 5,
   "id": "293828a2-89a4-486e-ae29-2e85219b7ee0",
   "metadata": {},
   "outputs": [],
   "source": [
    "def find_x(arr, x):\n",
    "    row = 0\n",
    "    col = len(arr[0]) - 1\n",
    "\n",
    "    while row <= len(arr) - 1 and col >= 0:\n",
    "        print(f\"Current element: {arr[row][col]}\")\n",
    "        if arr[row][col] == x:\n",
    "            return True\n",
    "        elif arr[row][col] > x:\n",
    "            col-=1\n",
    "        else:\n",
    "            row += 1\n",
    "\n",
    "    print(\"Edge reached!\")\n",
    "    return False"
   ]
  },
  {
   "cell_type": "code",
   "execution_count": 6,
   "id": "92a05628-599a-4e4f-9c6e-625c59df0489",
   "metadata": {},
   "outputs": [
    {
     "name": "stdout",
     "output_type": "stream",
     "text": [
      "Current element: 44\n",
      "Current element: 16\n",
      "Current element: 18\n",
      "Current element: 25\n",
      "Edge reached!\n"
     ]
    },
    {
     "data": {
      "text/plain": [
       "False"
      ]
     },
     "execution_count": 6,
     "metadata": {},
     "output_type": "execute_result"
    }
   ],
   "source": [
    "find_x(A, 27)"
   ]
  },
  {
   "cell_type": "markdown",
   "id": "49f3f1e6-84e3-4c48-97ff-26e86802e3bf",
   "metadata": {},
   "source": [
    "# Q3"
   ]
  },
  {
   "cell_type": "code",
   "execution_count": 7,
   "id": "7012c0e7-feba-4a36-8067-52e3f5823884",
   "metadata": {},
   "outputs": [],
   "source": [
    "A = [9, 47, 26, 2, 6, 84, 77, 3]"
   ]
  },
  {
   "cell_type": "code",
   "execution_count": 8,
   "id": "7fd855e0-5758-41e3-8cf3-4fbf33a693fb",
   "metadata": {},
   "outputs": [],
   "source": [
    "def div_up(A):\n",
    "\n",
    "    if len(A) == 1:\n",
    "        return A, [], 0\n",
    "    \n",
    "    half = len(A)//2\n",
    "\n",
    "    left, left_tuples, l_count = div_up(A[:half])\n",
    "    right, right_tuples, r_count = div_up(A[half:])\n",
    "\n",
    "    tuples = left_tuples + right_tuples\n",
    "    count = l_count + r_count\n",
    "\n",
    "    sorted_list = []\n",
    "    \n",
    "    while len(left) + len(right) > 0:\n",
    "        if len(left) == 0:\n",
    "            sorted_list.append(right.pop(0))\n",
    "        elif len(right) == 0:\n",
    "            sorted_list.append(left.pop(0))\n",
    "        elif left[0] <= right[0]:\n",
    "            sorted_list.append(left.pop(0))\n",
    "        else:\n",
    "            # Note that recording the tuples takes O(n) at worst, and assuming len is an O(1) function\n",
    "            # as is the case in most programming languages\n",
    "            for i in left:\n",
    "                tuples.append((i[1], right[0][1]))\n",
    "            count += len(left)\n",
    "            sorted_list.append(right.pop(0))\n",
    "\n",
    "\n",
    "    return sorted_list, tuples, count\n",
    "\n",
    "def count_inversions(A):\n",
    "    values = list(zip(A, list(range(len(A)))))\n",
    "    print(values)\n",
    "\n",
    "    sorted, tuples, count = div_up(A=values)\n",
    "\n",
    "    return count"
   ]
  },
  {
   "cell_type": "code",
   "execution_count": 9,
   "id": "3c15f1fb-5f12-44f8-baf8-8bf2353ae1dc",
   "metadata": {
    "scrolled": true
   },
   "outputs": [
    {
     "name": "stdout",
     "output_type": "stream",
     "text": [
      "[(9, 0), (47, 1), (26, 2), (2, 3), (6, 4), (84, 5), (77, 6), (3, 7)]\n"
     ]
    },
    {
     "data": {
      "text/plain": [
       "14"
      ]
     },
     "execution_count": 9,
     "metadata": {},
     "output_type": "execute_result"
    }
   ],
   "source": [
    "count_inversions(A)"
   ]
  },
  {
   "cell_type": "markdown",
   "id": "d03526a3-b952-4273-b93f-79b0afc90158",
   "metadata": {},
   "source": [
    "# Q10"
   ]
  },
  {
   "cell_type": "code",
   "execution_count": 10,
   "id": "7c3b38df-b0fe-44dd-b178-8c1875fb4689",
   "metadata": {},
   "outputs": [],
   "source": [
    "from hw2_10e import best_position"
   ]
  },
  {
   "cell_type": "code",
   "execution_count": 11,
   "id": "2e95f398-3aa9-475a-97ff-0cc77cb03e09",
   "metadata": {},
   "outputs": [],
   "source": [
    "points = [(5,5), (1,6), (3,4), (2, -5), (4, 0)]\n",
    "weights = [0.25, 0.15, 0.2, 0.1, 0.3]"
   ]
  },
  {
   "cell_type": "code",
   "execution_count": 12,
   "id": "85849405-7d4f-4fc3-837f-669f112c4638",
   "metadata": {},
   "outputs": [
    {
     "data": {
      "text/plain": [
       "(4, 4)"
      ]
     },
     "execution_count": 12,
     "metadata": {},
     "output_type": "execute_result"
    }
   ],
   "source": [
    "best_position(points, weights)"
   ]
  },
  {
   "cell_type": "code",
   "execution_count": null,
   "id": "3ede10b4-85ea-4703-8902-b69b9d4481f2",
   "metadata": {},
   "outputs": [],
   "source": []
  }
 ],
 "metadata": {
  "kernelspec": {
   "display_name": "Python 3 (ipykernel)",
   "language": "python",
   "name": "python3"
  },
  "language_info": {
   "codemirror_mode": {
    "name": "ipython",
    "version": 3
   },
   "file_extension": ".py",
   "mimetype": "text/x-python",
   "name": "python",
   "nbconvert_exporter": "python",
   "pygments_lexer": "ipython3",
   "version": "3.11.5"
  }
 },
 "nbformat": 4,
 "nbformat_minor": 5
}
