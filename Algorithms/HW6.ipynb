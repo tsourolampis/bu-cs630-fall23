{
 "cells": [
  {
   "cell_type": "markdown",
   "id": "5e7874ce-afd0-4dd7-89b4-0ca829400f95",
   "metadata": {},
   "source": [
    "# HW1 G-S Problem 6 Extended Analysis"
   ]
  },
  {
   "cell_type": "code",
   "execution_count": 1,
   "id": "37c4503d-1333-4de5-9eb9-9fa0d463c4bd",
   "metadata": {},
   "outputs": [],
   "source": [
    "from itertools import permutations, product\n",
    "from random import randint"
   ]
  },
  {
   "cell_type": "markdown",
   "id": "4ea9248a-e8a5-414a-bc30-052828402f9d",
   "metadata": {},
   "source": [
    "## Gale Shapley Algorithm"
   ]
  },
  {
   "cell_type": "code",
   "execution_count": 2,
   "id": "902679fa-4366-4a0a-8956-0300cba9354d",
   "metadata": {},
   "outputs": [],
   "source": [
    "def gale_shapley(mp, wp, verbose = False):\n",
    "\n",
    "    # Initialize empty matching\n",
    "    matches = dict.fromkeys(mp.keys())\n",
    "    inv_map = {None: list(mp.keys())}\n",
    "\n",
    "    count = 1\n",
    "\n",
    "    num_matches = 0\n",
    "\n",
    "    # While there is still an unmatched man\n",
    "    while(inv_map.get(None)):\n",
    "\n",
    "        if verbose:\n",
    "            print(f\"\\nIteration {count}\")\n",
    "            count +=1\n",
    "            print(\"Maps:\", matches, inv_map)\n",
    "\n",
    "        # Get the man and his preference list\n",
    "        m = inv_map[None].pop(0)\n",
    "        m_p = mp[m]\n",
    "\n",
    "        if verbose:\n",
    "            print(\"Current unmatched man and preferences:\", m, m_p)\n",
    "\n",
    "        # For each woman in m's preference list\n",
    "        for w in m_p:\n",
    "            # If w unmatched, match with m\n",
    "            if w not in inv_map.keys():\n",
    "                matches[m] = w\n",
    "                num_matches += 1\n",
    "                if verbose:\n",
    "                    print(m, \"matched with\", matches[m])\n",
    "                    print(\"New matches:\", matches)\n",
    "                inv_map[w] = m\n",
    "                if verbose:\n",
    "                    print(inv_map)\n",
    "                break\n",
    "            else:\n",
    "                # Find current partner of w\n",
    "                cp = inv_map[w][0]\n",
    "                if verbose:\n",
    "                    print(f\"{w}'s current partner is {cp}\")\n",
    "                if wp[w].index(m) < wp[w].index(cp):\n",
    "                    if verbose:\n",
    "                        print(f\"{m} at {wp[w].index(m)} is ranked higher than {cp} at {wp[w].index(cp)}\")\n",
    "                    matches[cp] = None\n",
    "                    matches[m] = w\n",
    "                    num_matches += 1\n",
    "                    if verbose:\n",
    "                        print(m, \"matched with\", matches[m])\n",
    "                    inv_map[w] = m\n",
    "                    inv_map[None].append(cp)\n",
    "                    if verbose:\n",
    "                        print(inv_map)\n",
    "                    break\n",
    "                else:\n",
    "                    if verbose:\n",
    "                        print(f\"{m} at {wp[w].index(m)} is not ranked higher than {cp} at {wp[w].index(cp)}\")\n",
    "                        print(\"Checking next w...\")\n",
    "                    \n",
    "    if verbose:\n",
    "        print(\"\\nX------Gale-Shapley Complete!------X\")\n",
    "    return matches, num_matches"
   ]
  },
  {
   "cell_type": "markdown",
   "id": "dae1ed45-7930-47e4-bd35-85bdcd31426f",
   "metadata": {},
   "source": [
    "## Generating All Possible Preferences"
   ]
  },
  {
   "cell_type": "code",
   "execution_count": 3,
   "id": "bb8f2830-87e3-41a7-af8f-4331f5db0851",
   "metadata": {},
   "outputs": [],
   "source": [
    "def generate_preferences(input_list):\n",
    "    n = len(input_list)\n",
    "    all_permutations = [list(p) for p in list(permutations(input_list, n))]\n",
    "    all_combinations = [list(p) for p in list(product(all_permutations, repeat = n))]\n",
    "    prefs_list = []\n",
    "    for combo in all_combinations:\n",
    "        le_dict = {}\n",
    "        for ind, val in enumerate(input_list):\n",
    "            le_dict[val] = combo[ind]\n",
    "        prefs_list.append(le_dict)\n",
    "    return prefs_list"
   ]
  },
  {
   "cell_type": "code",
   "execution_count": 4,
   "id": "330ea01a-3c6a-4574-b0fa-223fcc6278b8",
   "metadata": {},
   "outputs": [],
   "source": [
    "m_prefs = generate_preferences(['a', 'b', 'c', 'd'])"
   ]
  },
  {
   "cell_type": "code",
   "execution_count": 5,
   "id": "40af3d13-9e1c-412c-8e5e-dd706a7ae934",
   "metadata": {},
   "outputs": [],
   "source": [
    "w_prefs = m_prefs[randint(1, len(m_prefs) - 1)]"
   ]
  },
  {
   "cell_type": "code",
   "execution_count": 6,
   "id": "891bb773-3645-4423-ae33-a187ca7544be",
   "metadata": {
    "scrolled": true
   },
   "outputs": [
    {
     "data": {
      "text/plain": [
       "{'a': ['c', 'd', 'b', 'a'],\n",
       " 'b': ['d', 'a', 'b', 'c'],\n",
       " 'c': ['b', 'd', 'a', 'c'],\n",
       " 'd': ['b', 'c', 'd', 'a']}"
      ]
     },
     "execution_count": 6,
     "metadata": {},
     "output_type": "execute_result"
    }
   ],
   "source": [
    "w_prefs"
   ]
  },
  {
   "cell_type": "code",
   "execution_count": 7,
   "id": "aa23d8e1-3fa4-4cdc-90cd-e60fe8e30a40",
   "metadata": {},
   "outputs": [],
   "source": [
    "assert len(m_prefs) == 331776 #(which == (4!)^4)"
   ]
  },
  {
   "cell_type": "code",
   "execution_count": 8,
   "id": "45e84314-3b9e-4fa3-93fd-d47fa10c2600",
   "metadata": {},
   "outputs": [
    {
     "data": {
      "text/plain": [
       "{7: 25408,\n",
       " 8: 11292,\n",
       " 6: 60864,\n",
       " 9: 2660,\n",
       " 5: 154128,\n",
       " 11: 94,\n",
       " 10: 231,\n",
       " 4: 77088,\n",
       " 12: 11}"
      ]
     },
     "execution_count": 8,
     "metadata": {},
     "output_type": "execute_result"
    }
   ],
   "source": [
    "prob_dict = {}\n",
    "\n",
    "for mp in m_prefs:\n",
    "    res, num = gale_shapley(mp, w_prefs)\n",
    "    prob_dict[num] = prob_dict.get(num, 0) + 1\n",
    "\n",
    "prob_dict"
   ]
  },
  {
   "cell_type": "code",
   "execution_count": 9,
   "id": "171acad1-9ada-417a-9aac-ce0346487621",
   "metadata": {},
   "outputs": [],
   "source": [
    "import matplotlib.pyplot as plt"
   ]
  },
  {
   "cell_type": "code",
   "execution_count": 10,
   "id": "b3e6d577-7ce3-4df7-bc6f-6886e7f938b4",
   "metadata": {},
   "outputs": [
    {
     "data": {
      "image/png": "[encoded data removed]",
      "text/plain": [
       "<Figure size 640x480 with 1 Axes>"
      ]
     },
     "metadata": {},
     "output_type": "display_data"
    }
   ],
   "source": [
    "plt.bar(prob_dict.keys(), prob_dict.values())\n",
    "plt.xlabel(\"# of matches during execution of G-S\")\n",
    "plt.ylabel(\"# of problem instances\")\n",
    "plt.show()"
   ]
  },
  {
   "cell_type": "code",
   "execution_count": null,
   "id": "8690a5d3-dacd-401f-a154-7cfb81ecf1e6",
   "metadata": {},
   "outputs": [],
   "source": []
  }
 ],
 "metadata": {
  "kernelspec": {
   "display_name": "Python 3 (ipykernel)",
   "language": "python",
   "name": "python3"
  },
  "language_info": {
   "codemirror_mode": {
    "name": "ipython",
    "version": 3
   },
   "file_extension": ".py",
   "mimetype": "text/x-python",
   "name": "python",
   "nbconvert_exporter": "python",
   "pygments_lexer": "ipython3",
   "version": "3.11.5"
  }
 },
 "nbformat": 4,
 "nbformat_minor": 5
}
